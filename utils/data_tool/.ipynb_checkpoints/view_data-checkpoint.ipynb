{
 "cells": [
  {
   "cell_type": "code",
   "execution_count": null,
   "id": "3d436d01",
   "metadata": {},
   "outputs": [],
   "source": [
    "\"\"\"\n",
    "本文档说明：\n",
    "\n",
    "单变量： 离散：条形图、饼图\n",
    "         连续：直方图、箱型图、小提琴图\n",
    "\n",
    "双变量： 连续-连续：散点、相关性图（上右分布）\n",
    "         离散-离散：堆积柱状、卡方检验（判断离散变量相关）\n",
    "         连续-离散：误差条图、组合图、Z t检验\n",
    "\n",
    "多变量：groupby之类，自然离散才有groupby的意义\n",
    "        类别特征子图： groupnby+条形图（单变量）\n",
    "        类别特征子图： groupnby+堆积柱状图（双变量）\n",
    "        热力图\n",
    "         \n",
    "\"\"\""
   ]
  },
  {
   "cell_type": "markdown",
   "id": "faf757ac",
   "metadata": {},
   "source": [
    "# 预查看"
   ]
  },
  {
   "cell_type": "code",
   "execution_count": null,
   "id": "07bef29a",
   "metadata": {},
   "outputs": [],
   "source": [
    "%matplotlib inline\n",
    "import numpy as np\n",
    "import torch\n",
    "import pandas as pd\n",
    "import seaborn as sns\n",
    "import matplotlib.pyplot as plt\n",
    "import missingno as msno\n",
    "import dtale"
   ]
  },
  {
   "cell_type": "code",
   "execution_count": null,
   "id": "2117293e",
   "metadata": {},
   "outputs": [],
   "source": [
    "fpath=\"C:/Users/Huai/Desktop/tool/train.csv\"\n",
    "df=pd.read_csv(fpath)"
   ]
  },
  {
   "cell_type": "code",
   "execution_count": null,
   "id": "07004854",
   "metadata": {},
   "outputs": [],
   "source": [
    "\"\"\"\n",
    "整体观看数据\n",
    "\"\"\"\n",
    "df.head(5) #df.tail(5)\n",
    "df.shape\n",
    "df.info()\n",
    "df.describe()\n",
    "\n",
    "msno.bar(df)\n",
    "msno.matrix(df)"
   ]
  },
  {
   "cell_type": "code",
   "execution_count": null,
   "id": "542cc19e",
   "metadata": {},
   "outputs": [],
   "source": [
    "dtale.show(df)"
   ]
  },
  {
   "cell_type": "markdown",
   "id": "f0fc6738",
   "metadata": {},
   "source": [
    "# 单变量可视化"
   ]
  },
  {
   "cell_type": "code",
   "execution_count": null,
   "id": "f76ce05d",
   "metadata": {},
   "outputs": [],
   "source": [
    "\"\"\"\n",
    "对于sns\n",
    "颜色可以使用color单个颜色，之前用过颜色表\n",
    "也可以使用palette调色板，Blues不会错\n",
    "https://blog.csdn.net/qq_41595507/article/details/107146256?spm=1001.2101.3001.6650.2&utm_medium=distribute.pc_relevant.none-task-blog-2%7Edefault%7ECTRLIST%7ERate-2-107146256-blog-110475658.pc_relevant_antiscanv2&depth_1-utm_source=distribute.pc_relevant.none-task-blog-2%7Edefault%7ECTRLIST%7ERate-2-107146256-blog-110475658.pc_relevant_antiscanv2&utm_relevant_index=5\n",
    "\n",
    "中文文档：https://www.bookstack.cn/read/seaborn-0.9/docs-21.md\n",
    "\"\"\""
   ]
  },
  {
   "cell_type": "markdown",
   "id": "6e7618ff",
   "metadata": {},
   "source": [
    "## 离散量(单变量可视化)"
   ]
  },
  {
   "cell_type": "markdown",
   "id": "45944720",
   "metadata": {},
   "source": [
    "### 条形图"
   ]
  },
  {
   "cell_type": "code",
   "execution_count": null,
   "id": "10c17a23",
   "metadata": {},
   "outputs": [],
   "source": [
    "#（2.1.1） 条形图\n",
    "sns.countplot(df[\"Embarked\"],palette=\"Blues\")# color=\"khaki\"\n",
    "plt.show()\n"
   ]
  },
  {
   "cell_type": "markdown",
   "id": "75ae1c5b",
   "metadata": {},
   "source": [
    "### 饼图"
   ]
  },
  {
   "cell_type": "code",
   "execution_count": null,
   "id": "1b60bd33",
   "metadata": {},
   "outputs": [],
   "source": [
    "#（2.1.2） 饼图\n",
    "colors=[\"khaki\",\"gold\",\"orange\"]\n",
    "count=df.groupby('Embarked')[\"Embarked\"].count()#groupby 会根据指定类别分割成多个df\n",
    "count.plot.pie(autopct=\"%1.2f%%\",figsize=(6,6),colors=colors)\n",
    "plt.show()"
   ]
  },
  {
   "cell_type": "markdown",
   "id": "652816a6",
   "metadata": {},
   "source": [
    "## 连续量(单变量可视化)"
   ]
  },
  {
   "cell_type": "markdown",
   "id": "4df544c8",
   "metadata": {},
   "source": [
    "### 直方图"
   ]
  },
  {
   "cell_type": "code",
   "execution_count": null,
   "id": "4dcd27b4",
   "metadata": {},
   "outputs": [],
   "source": [
    "\"1.2 单变量可视化：连续量\"\n",
    "# （2.2.1.1） 直方图\n",
    "#     书上使用的方法：\n",
    "sns.displot(df[df.Age.isnull().values == False][\"Age\"] ,kde=True)  "
   ]
  },
  {
   "cell_type": "code",
   "execution_count": null,
   "id": "74a386e3",
   "metadata": {},
   "outputs": [],
   "source": [
    "# （2.2.1.2）我的方法：\n",
    "import re\n",
    "def hist_line(x,y,target_class,bins_num,color):\n",
    "    #设置格式 \n",
    "    sns.set_style(\"whitegrid\")\n",
    "    #设置图形大小\n",
    "    plt.rcParams['figure.figsize'] = (18.0,8.0)\n",
    "    fig = plt.figure()\n",
    "    #画柱形图\n",
    "    ax1 = fig.add_subplot(111)\n",
    "    n,bins_rule,patches=ax1.hist(x, bins=bins_num, facecolor=color, edgecolor=\"black\", alpha=0.5)\n",
    "    ax1.set_ylabel(x.name, fontsize='15')\n",
    "    ax1.set_title(x.name+\"-y\",fontsize='20')\n",
    "    \n",
    "    for i in range(len(bins_rule)):\n",
    "        bins_rule[i]=round(bins_rule[i],3)\n",
    "    plt.xticks(bins_rule,bins_rule, fontsize=15, rotation=45)#横坐标刻度，用rule设置\n",
    "\n",
    "    #print(bins_rule) #[18.  25.7 33.4 41.1 48.8 56.5 64.2 71.9 79.6 87.3 95. ]\n",
    "    height=[]\n",
    "    target=[]\n",
    "    target_name=y.name\n",
    "    for i in range((len(bins_rule)-1)):\n",
    "        height.append(   int(re.findall(r\"height=(.+?),\",str(patches[i]))[0])   )\n",
    "        #print(\"rule:\",bins_rule[i],bins_rule[i+1],\"height:\",height)  height=[[\"height1\"],[\"height2\"],[\"height3\"]]\n",
    "        new_ser=df.loc[ (x>=bins_rule[i]) & (x<bins_rule[i+1]), target_name]\n",
    "        target.append(  new_ser[new_ser==target_class].count() )\n",
    "        #target.append(df.loc[ (x>=bins_rule[i]) & (x<bins_rule[i+1]), target_name].sum())  #这个只能应用于目标为1/0  要修改！！！\n",
    "        #print(target) #[169, 830, 730, 392, 362, 280, 81, 86, 27, 3]\n",
    "    print(\"Height：\",height)\n",
    "    print(\"Target:\",target)\n",
    "    #画折线图 \n",
    "    ax2 = ax1.twinx()   #组合图必须加这个\n",
    "    line_x=[]\n",
    "    line_y=[]\n",
    "    for i in range((len(bins_rule)-1)):\n",
    "        line_x.append(   round((bins_rule[i]+bins_rule[i+1])/2,2)      )\n",
    "        line_y.append(   round((target[i]/(height[i]-target[i])),2)    ) \n",
    "    \n",
    "    #print(line_x)\n",
    "    print(\"y-1:0 :\",line_y)\n",
    "    ax2.plot(line_x, line_y, 'slateblue',ms=5, marker='o',linewidth=0.7)\n",
    "    ax2.set_ylabel('y-1:0',fontsize='15')\n",
    "    for a, b in zip(line_x, line_y):\n",
    "        plt.text(a, b+0.0, b, ha='center', va='bottom', fontsize=15)\n",
    "    ax2.grid(None)#不展示右轴的网格\n",
    "    plt.show()\n",
    "\n",
    "x = df[\"Age\"]\n",
    "y = df[\"Survived\"]\n",
    "target_class=1#y中的阳性样本，最后的比值是（阳性样本数量/其他）\n",
    "bins_num=[18,25,30,60,95]#也可是一个数字\n",
    "color=\"khaki\"\n",
    "hist_line(x,y,target_class,bins_num,color)\n",
    "\"输出 Height Target Y-1:0\""
   ]
  },
  {
   "cell_type": "markdown",
   "id": "211f9d6c",
   "metadata": {},
   "source": [
    "### 箱型图"
   ]
  },
  {
   "cell_type": "code",
   "execution_count": null,
   "id": "13f15569",
   "metadata": {},
   "outputs": [],
   "source": [
    "#（2.2.2.1）箱型图\n",
    "sns.boxplot(df[\"Age\"])\n",
    "print(df[\"Age\"].describe())"
   ]
  },
  {
   "cell_type": "code",
   "execution_count": null,
   "id": "57c5401c",
   "metadata": {},
   "outputs": [],
   "source": [
    "#（2.2.2.2）箱型图 我的方法\n",
    "#一个df\n",
    "boxs=df[\"Age\"] #一个df不加label\n",
    "\n",
    "#多个df一张图\n",
    "#boxs=[ df['age'], df['age'] ]\n",
    "#labels = [ \"age\", \"age\"]\n",
    "\n",
    "plt.figure(figsize=(5,10)) #设置画布的尺寸\n",
    "plt.title('boxplot',fontsize=20) \n",
    "plt.ylabel('Y-title',fontsize=10.0)\n",
    "plt.xlabel('X-title',fontsize=10.0)\n",
    " \n",
    "plt.boxplot( boxs,#labels = labels,\n",
    "             vert=True,        #True 箱图直立\n",
    "             showmeans=True,   #要表示均值\n",
    "             meanline=True,    #用线表示均值\n",
    "             showfliers=True,  #显示异常值\n",
    "             sym=\"8\",           #异常值的图案   6上是三角  *是星  8是圆\n",
    "             widths=0.8,       #箱图的宽度\n",
    "             patch_artist=True,#是否填充箱体颜色\n",
    "             boxprops = {'color':'white','facecolor':'skyblue'}# 箱的外框颜色  箱的内充颜色\n",
    "            )\n",
    " \n",
    "plt.show()\n",
    "print(df[\"Age\"].describe())"
   ]
  },
  {
   "cell_type": "markdown",
   "id": "2721d7bf",
   "metadata": {},
   "source": [
    "### 小提琴图"
   ]
  },
  {
   "cell_type": "code",
   "execution_count": null,
   "id": "66d51ee0",
   "metadata": {},
   "outputs": [],
   "source": [
    "#（2.2.3）小提琴图\n",
    "sns.violinplot(y=df[\"Age\"],color=\"skyblue\")"
   ]
  },
  {
   "cell_type": "markdown",
   "id": "2a3c7f8c",
   "metadata": {},
   "source": [
    "# 双变量可视化"
   ]
  },
  {
   "cell_type": "code",
   "execution_count": null,
   "id": "a80709a6",
   "metadata": {},
   "outputs": [],
   "source": [
    "\"\"\"\n",
    "|2.双变量可视化\n",
    "|-2.1双数值\n",
    "|--2.1.1散点图（但横轴数字不能太多）\n",
    "|--2.1.1相关性图（更像散点图，但是坐标区间应该尝试去调整，计算相关性）\n",
    "|-2.2双离散\n",
    "|--2.2.1堆积柱状图\n",
    "|--2.2.2卡方检验\n",
    "|-2.3数值与离散\n",
    "|--2.3.1 含误差条图\n",
    "|--2.3.2 组合图\n",
    "|--2.3.3 Z检验t检验\n",
    "\"\"\""
   ]
  },
  {
   "cell_type": "markdown",
   "id": "7a2c5db5",
   "metadata": {},
   "source": [
    "## 双连续"
   ]
  },
  {
   "cell_type": "markdown",
   "id": "b33dd643",
   "metadata": {},
   "source": [
    "### 散点图"
   ]
  },
  {
   "cell_type": "code",
   "execution_count": null,
   "id": "c9cefb45",
   "metadata": {},
   "outputs": [],
   "source": [
    "# 3.1.1 散点图\n",
    "#这个散点图横坐标x必须是数值的离散量，取值不能很多\n",
    "sns.swarmplot(y=\"Age\",x=\"Pclass\",data=df)"
   ]
  },
  {
   "cell_type": "markdown",
   "id": "5b922bad",
   "metadata": {},
   "source": [
    "### 相关性图"
   ]
  },
  {
   "cell_type": "code",
   "execution_count": null,
   "id": "36a2463c",
   "metadata": {},
   "outputs": [],
   "source": [
    "# 3.1.2 相关性图\n",
    "from scipy.stats import pearsonr\n",
    "sns.jointplot(x=\"Pclass\",y=\"Age\",data=df,kind=\"reg\")#两边是直方图\n",
    "print(df.loc[:,[\"Pclass\",\"Age\"]].corr())#相关系数 默认使用pearsonr"
   ]
  },
  {
   "cell_type": "markdown",
   "id": "c2792364",
   "metadata": {},
   "source": [
    "## 双离散"
   ]
  },
  {
   "cell_type": "markdown",
   "id": "c1b10146",
   "metadata": {},
   "source": [
    "### 堆积柱状图"
   ]
  },
  {
   "cell_type": "code",
   "execution_count": null,
   "id": "606ded9c",
   "metadata": {},
   "outputs": [],
   "source": [
    "#3.2.1堆积柱状图\n",
    "var=df.groupby([\"Pclass\",\"Sex\"]).Sex.count()\n",
    "var.unstack().plot(kind=\"bar\",stacked=True,color=[\"red\",\"blue\",\"green\"],figsize=(8,6))\n",
    "plt.show()"
   ]
  },
  {
   "cell_type": "markdown",
   "id": "f9f83965",
   "metadata": {},
   "source": [
    "### 卡方检验"
   ]
  },
  {
   "cell_type": "code",
   "execution_count": null,
   "id": "5c02d8f5",
   "metadata": {},
   "outputs": [],
   "source": [
    "#3.2.2 卡方检验\n",
    "\"\"\"\n",
    "卡方检验的原始假设是两个变量独立\n",
    "然后获得卡方值查表，置信度内应该小于表内值：即支持原假设要真正卡方值更小\n",
    "p值表明原假设下当前样本的罕见程度\n",
    "但一般两个变量都有关系\n",
    "结果是，卡方值大于用自由度和置信水平α查表的结果\n",
    "同时p值比α小\n",
    "\n",
    "https://www.jianshu.com/p/807b2c2bfd9b\n",
    "https://blog.csdn.net/snowdroptulip/article/details/78770088\n",
    "http://www.obhrm.net/index.php/%E5%8D%A1%E6%96%B9%E5%88%86%E5%B8%83%E8%A1%A8_Chi-Square_Probabilities\n",
    "\"\"\"\n",
    "feature1=df[\"Embarked\"]\n",
    "feature2=df[\"Survived\"]\n",
    "from scipy.stats import chi2_contingency\n",
    "feature_to_target=pd.crosstab(feature1,feature2)\n",
    "chi2,p,dof,ex = chi2_contingency(feature_to_target)\n",
    "print(\"卡方值：{}\".format(chi2))\n",
    "print(\"P值：{}\".format(p))\n",
    "print(\"自由度：{}\".format(dof))\n",
    "#print(\"期望频率：{}\".format(ex))"
   ]
  },
  {
   "cell_type": "markdown",
   "id": "a5ae9a71",
   "metadata": {},
   "source": [
    "## 连续与离散"
   ]
  },
  {
   "cell_type": "markdown",
   "id": "6f0d8eb2",
   "metadata": {},
   "source": [
    "### 误差条图"
   ]
  },
  {
   "cell_type": "code",
   "execution_count": null,
   "id": "460dc067",
   "metadata": {},
   "outputs": [],
   "source": [
    "#3.3.1 含误差条图（代码跑不出来）\n",
    "# 每个类别的简单\"箱图\"，因为只有标准差的浮动范围\n",
    "x=df.groupby([\"Pclass\"]).Age.mean().index\n",
    "y=df.groupby([\"Pclass\"]).Age.mean()\n",
    "z=df.groupby([\"Pclass\"]).Age.mean().std\n",
    "\n",
    "plt.errorbar(x=x ,y=y ,yerr=z ,fmt=\"o\")\n",
    "plt.xlabel(\"Pclass\")\n",
    "plt.ylabel(\"Age\")\n",
    "plt.show()"
   ]
  },
  {
   "cell_type": "markdown",
   "id": "c1112563",
   "metadata": {},
   "source": [
    "### 组合图"
   ]
  },
  {
   "cell_type": "code",
   "execution_count": null,
   "id": "ed94ab00",
   "metadata": {},
   "outputs": [],
   "source": [
    "#3.3.2 组合图\n",
    "ax=sns.boxplot(x=\"Pclass\",y=\"Age\",data=df)\n",
    "ax=sns.swarmplot(x=\"Pclass\",y=\"Age\",data=df,color=\".8\")"
   ]
  },
  {
   "cell_type": "markdown",
   "id": "db7b4de1",
   "metadata": {},
   "source": [
    "### Z检验 t检验"
   ]
  },
  {
   "cell_type": "code",
   "execution_count": null,
   "id": "8bfc5144",
   "metadata": {},
   "outputs": [],
   "source": [
    "#3.3.3 Z检验 t检验 略"
   ]
  },
  {
   "cell_type": "markdown",
   "id": "ed024083",
   "metadata": {},
   "source": [
    "# 多变量"
   ]
  },
  {
   "cell_type": "code",
   "execution_count": null,
   "id": "81900eef",
   "metadata": {},
   "outputs": [],
   "source": [
    "\"\"\"\n",
    "|3.多变量\n",
    "|-3.1.1类别特征子图（单变量）（冰书写的不是这个，但我觉得这个更实用）\n",
    "|-3.1.2类别特征子图（多变量）\n",
    "|-3.2热力图（相关性：仅连续值）\n",
    "\"\"\""
   ]
  },
  {
   "cell_type": "markdown",
   "id": "5c9cc8e6",
   "metadata": {},
   "source": [
    "## 类别特征子图(单变量)"
   ]
  },
  {
   "cell_type": "code",
   "execution_count": null,
   "id": "d4df757a",
   "metadata": {},
   "outputs": [],
   "source": [
    "#4.1类别特征子图(单变量)\n",
    "num=len(df[\"Pclass\"].value_counts().index)\n",
    "group=df.groupby(\"Pclass\")[\"Pclass\",\"Sex\"]\n",
    "\n",
    "for i in range(num):\n",
    "    new_df=group.get_group(i+1) #https://blog.csdn.net/m0_37586991/article/details/89633958\n",
    "    \n",
    "    sns.countplot(new_df[\"Sex\"],palette=\"Blues\")\n",
    "    \n",
    "    #print(new_df[\"Pclass\"].value_counts().index[0])\n",
    "    label=new_df[\"Pclass\"].value_counts().index[0].tolist()\n",
    "    plt.xlabel(\"Pclass=\"+str(label))\n",
    "    plt.show()"
   ]
  },
  {
   "cell_type": "markdown",
   "id": "d5c2fef2",
   "metadata": {},
   "source": [
    "## 类别特征子图(双变量)"
   ]
  },
  {
   "cell_type": "code",
   "execution_count": null,
   "id": "ca4fbee3",
   "metadata": {},
   "outputs": [],
   "source": [
    "#4.2类别特征子图（双变量）\n",
    "num=len(df[\"Pclass\"].value_counts().index)\n",
    "group=df.groupby(\"Pclass\")[\"Pclass\",\"Sex\",\"Survived\"]\n",
    "\n",
    "for i in range(num):\n",
    "    new_df=group.get_group(i+1) #https://blog.csdn.net/m0_37586991/article/details/89633958\n",
    "    \n",
    "    var=new_df.groupby([\"Sex\",\"Survived\"]).Survived.count()\n",
    "    var.unstack().plot(kind=\"bar\",stacked=True,color=[\"red\",\"blue\",\"green\"],figsize=(8,6))\n",
    "    \n",
    "    #print(new_df[\"Pclass\"].value_counts().index[0])\n",
    "    label=new_df[\"Pclass\"].value_counts().index[0].tolist()\n",
    "    plt.xlabel(\"Pclass=\"+str(label))\n",
    "    plt.show()"
   ]
  },
  {
   "cell_type": "markdown",
   "id": "dfabca0d",
   "metadata": {},
   "source": [
    "## 热力图（相关性：仅连续值）"
   ]
  },
  {
   "cell_type": "code",
   "execution_count": null,
   "id": "0c700e7f",
   "metadata": {},
   "outputs": [],
   "source": [
    "#4.3热力图（相关性：仅连续值）\n",
    "f=df[[\"Age\",\"Fare\",\"SibSp\",\"Pclass\"]].corr()\n",
    "sns.heatmap(f,annot=True, cmap=\"Blues\") #cmap类似palette  annot是标注数字\n"
   ]
  }
 ],
 "metadata": {
  "kernelspec": {
   "display_name": "Python 3 (ipykernel)",
   "language": "python",
   "name": "python3"
  },
  "language_info": {
   "codemirror_mode": {
    "name": "ipython",
    "version": 3
   },
   "file_extension": ".py",
   "mimetype": "text/x-python",
   "name": "python",
   "nbconvert_exporter": "python",
   "pygments_lexer": "ipython3",
   "version": "3.8.8"
  },
  "toc": {
   "base_numbering": 1,
   "nav_menu": {},
   "number_sections": true,
   "sideBar": true,
   "skip_h1_title": false,
   "title_cell": "Table of Contents",
   "title_sidebar": "Contents",
   "toc_cell": false,
   "toc_position": {},
   "toc_section_display": true,
   "toc_window_display": true
  }
 },
 "nbformat": 4,
 "nbformat_minor": 5
}
