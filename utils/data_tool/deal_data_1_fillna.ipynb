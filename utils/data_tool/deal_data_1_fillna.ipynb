{
 "cells": [
  {
   "cell_type": "code",
   "execution_count": null,
   "id": "f1d07bfa",
   "metadata": {},
   "outputs": [],
   "source": [
    "\"\"\"\n",
    "本文档说明：\n",
    "\n",
    "查看缺省情况\n",
    "填补缺省值（缺省过多删除、统计值/默认值填充、模型填充/创建新变量）\n",
    "初步处理异常点（k-means聚类，发现异常点删除）\n",
    "\n",
    "\"\"\""
   ]
  },
  {
   "cell_type": "markdown",
   "id": "4bbff3fb",
   "metadata": {},
   "source": [
    "# 数据导入"
   ]
  },
  {
   "cell_type": "code",
   "execution_count": null,
   "id": "d24209d4",
   "metadata": {},
   "outputs": [],
   "source": [
    "%matplotlib inline\n",
    "import numpy as np\n",
    "import torch\n",
    "import pandas as pd\n",
    "import matplotlib.pyplot as plt\n",
    "import missingno as msno\n",
    "import dtale"
   ]
  },
  {
   "cell_type": "code",
   "execution_count": null,
   "id": "57a755f7",
   "metadata": {},
   "outputs": [],
   "source": [
    "fpath=\"C:/Users/Huai/Desktop/tool/train.csv\"\n",
    "df=pd.read_csv(fpath)"
   ]
  },
  {
   "cell_type": "code",
   "execution_count": null,
   "id": "b9d455c0",
   "metadata": {},
   "outputs": [],
   "source": [
    "dtale.show(df)"
   ]
  },
  {
   "cell_type": "markdown",
   "id": "262ccf73",
   "metadata": {},
   "source": [
    "# 缺省值处理"
   ]
  },
  {
   "cell_type": "markdown",
   "id": "72a49b6f",
   "metadata": {},
   "source": [
    "## 删除（列删除）"
   ]
  },
  {
   "cell_type": "code",
   "execution_count": null,
   "id": "af3c7277",
   "metadata": {},
   "outputs": [],
   "source": [
    "#2.1删除\n",
    "def drop_nan_stat(df, copy=False, axis=0, nan_threshold=0.9):\n",
    "    '''按行、列的缺失值比例删除大于缺失值阈值的行、列'''\n",
    "    assert isinstance(df, pd.DataFrame)\n",
    "    return_df = df.copy() if copy else df\n",
    "    n_rows, n_cols = return_df.shape\n",
    "\n",
    "    if axis == 0:# 删除缺省过多的列\n",
    "        t = return_df.isnull().sum(axis=0)\n",
    "        t = pd.DataFrame(t, columns=['NumOfNan'])\n",
    "        \"\"\"\n",
    "        print(t)\n",
    "                         NumOfNan\n",
    "        PassengerId         0\n",
    "        Survived            0\n",
    "        Pclass              0\n",
    "        Name                0\n",
    "        Sex                 0\n",
    "        Age               177\n",
    "        SibSp               0\n",
    "        Parch               0\n",
    "        Ticket              0\n",
    "        Fare                0\n",
    "        Cabin             687\n",
    "        Embarked            2\n",
    "        \"\"\"\n",
    "        t['PctOFNan'] = t['NumOfNan'] / n_rows\n",
    "        return_df = return_df.drop(\n",
    "            labels=t[t.PctOFNan > nan_threshold].index.tolist(), axis=1)\n",
    "    elif axis == 1:\n",
    "        t = return_df.isnull().sum(axis=1)\n",
    "        t = pd.DataFrame(t, columns=['NumOfNan'])\n",
    "        t['PctOFNan'] = t['NumOfNan'] / n_cols\n",
    "        print(t)\n",
    "        return_df = return_df.drop(\n",
    "            labels=t[t.PctOFNan > nan_threshold].index.tolist(), axis=0)\n",
    "\n",
    "    return return_df\n",
    "\n",
    "\n",
    "#删除前查看缺省情况\n",
    "#msno.bar(df=df, figsize=(8, 4), fontsize=18)\n",
    "\n",
    "#删除缺失值比例大于0.5的列(copy=True 在函数内使用df.copy（）)\n",
    "new_df = drop_nan_stat(df=df,copy=True,axis=0,nan_threshold=0.5)\n",
    "\n",
    "#删除后查看缺省情况\n",
    "msno.bar(df=new_df, figsize=(8, 4), fontsize=18)\n",
    "\n",
    "#确定修改\n",
    "#df=new_df"
   ]
  },
  {
   "cell_type": "markdown",
   "id": "93b03a4a",
   "metadata": {},
   "source": [
    "## 填充"
   ]
  },
  {
   "cell_type": "markdown",
   "id": "1d64d0df",
   "metadata": {},
   "source": [
    "### 统计值填充（默认值会引入噪声）"
   ]
  },
  {
   "cell_type": "code",
   "execution_count": null,
   "id": "acc9794e",
   "metadata": {},
   "outputs": [],
   "source": [
    "#2.2.1统计值填充\n",
    "\n",
    "#使用copy\n",
    "df_fill=df.copy()\n",
    "\n",
    "#选择特征\n",
    "feature=\"Age\"\n",
    "\n",
    "#连续量  使用中位数数填充：\n",
    "#df_fill[feature].fillna(df_fill[feature].median(), inplace=True)\n",
    "\n",
    "#连续量  使用均值填充：\n",
    "#df_fill[feature].fillna(df_fill[feature].mean(), inplace=True)\n",
    "\n",
    "#离散量  使用众数填充：\n",
    "#df_fill[feature].fillna(df_fill[feature].mode()[0],inplace=True)\n",
    "\n",
    "#填充默认值 如-1（会引入噪声）\n",
    "df_fill[feature].fillna(-1,inplace=True)\n",
    "\n",
    "#查看是否填充完整（不画图）\n",
    "if(not(df_fill[feature].isnull().any())):\n",
    "    print(feature,\"已填充完整。\")\n",
    "else:\n",
    "    print(\"仍有缺省！\")\n",
    "\n",
    "#查看是否填充完整（画图）\n",
    "#msno.bar(df=df_fill, figsize=(8, 4), fontsize=18)\n",
    "\n",
    "#确定修改\n",
    "#df=df_fill"
   ]
  },
  {
   "cell_type": "markdown",
   "id": "d946f0e2",
   "metadata": {},
   "source": [
    "### 模型填充（根据缺省产生新变量）"
   ]
  },
  {
   "cell_type": "code",
   "execution_count": null,
   "id": "1aaa6adb",
   "metadata": {},
   "outputs": [],
   "source": [
    "#2.2.2模型填充（可以同时产生新变量）\n",
    "\n",
    "# 导入sklearn.ensemble.RandomForestRegressor\n",
    "from sklearn.ensemble import RandomForestRegressor\n",
    "\n",
    "#待填充的特征 & 用于预测的特征\n",
    "target=[\"Age\"]\n",
    "feature=['Fare', 'Parch', 'SibSp', 'Pclass']#如\"Sex\"的string变量不能直接传入模型\n",
    "\n",
    "#操作包含上述特征的Dataframe\n",
    "df_model_fill = df[(target+feature)].copy()\n",
    "\n",
    "#预测前判断模型是否缺省\n",
    "#print(df_model_fill[ target[0] ].isnull().any())\n",
    "#msno.bar(df=df_model_fill, figsize=(8, 4), fontsize=18)\n",
    "\n",
    "# 根据目标特征是否缺失，划分训练集和预测集\n",
    "train_df = df_model_fill[df_model_fill.Age.notnull()].values#------------------------需要更改为目标target\n",
    "predict_df = df_model_fill[df_model_fill.Age.isnull()].values#-----------------------需要更改为目标target\n",
    "\n",
    "# 训练数据集使用RandomForestRegressor训练模型\n",
    "y = train_df[:, 0]\n",
    "X = train_df[:, 1:]\n",
    "rf_model = RandomForestRegressor(random_state=42, n_estimators=100)#-----------------可以对模型调参\n",
    "rf_model.fit(X, y)\n",
    "\n",
    "# 预测结果填补缺省值\n",
    "predict_answer = rf_model.predict(predict_df[:, 1:])\n",
    "df_model_fill.loc[(df_model_fill.Age.isnull()),  target[0] ] = predict_answer#--------需要更改为目标target\n",
    "\n",
    "#检测是否填充完整（不画图）\n",
    "if(not(df_model_fill[ target[0] ].isnull().any())):\n",
    "    print(target[0],\"已填充完整。\")\n",
    "else:\n",
    "    print(\"仍有缺省！\")\n",
    "\n",
    "#检测是否填充完整（画图）\n",
    "#msno.bar(df=df_model_fill, figsize=(8, 4), fontsize=18)\n",
    "\n",
    "#模型预测的特征添回来\n",
    "#df[target[0]]=df_model_fill[ target[0] ]"
   ]
  },
  {
   "cell_type": "code",
   "execution_count": null,
   "id": "6abbcb79",
   "metadata": {},
   "outputs": [],
   "source": [
    "#2.2.2模型填充（根据缺省产生新变量---虚拟变量）\n",
    "\n",
    "new_feature_from=\"Age\"\n",
    "new_feature_name=new_feature_from+\"_isnull\"\n",
    "\n",
    "new_df = df[[new_feature_from]].copy()\n",
    "\n",
    "#判断是否缺失，产生新特征\n",
    "new_df.loc[(new_df.Age.notnull()), new_feature_name] = \"False\"#------------------------需要. 为自己选择的特征\n",
    "new_df.loc[(new_df.Age.isnull()),  new_feature_name] = \"True\" #------------------------需要. 为自己选择的特征\n",
    "\n",
    "#统计新特征的各类别数量\n",
    "new_df[new_feature_name].value_counts()\n",
    "\n",
    "#为df添加新特征\n",
    "#df[new_feature_name]=new_df[new_feature_name]"
   ]
  },
  {
   "cell_type": "markdown",
   "id": "4f6aecf5",
   "metadata": {},
   "source": [
    "## 不处理；选择可以处理缺省模型（SVM KNN不能处理）"
   ]
  },
  {
   "cell_type": "markdown",
   "id": "2c4eab96",
   "metadata": {},
   "source": [
    "# 异常检测与处理"
   ]
  },
  {
   "cell_type": "code",
   "execution_count": null,
   "id": "1774967b",
   "metadata": {},
   "outputs": [],
   "source": [
    "\"\"\"\n",
    "3.异常检测与处理\n",
    "3.1异常值（单个特征）\n",
    "3.1.1 3σ检测法（需要数据服从正态分布）\n",
    "3.1.2 箱线图上下界\n",
    "3.2异常点（整行数据）\n",
    "3.3异常点处理\n",
    "\"\"\"\n",
    "\n",
    "\"\"\"\n",
    "异常值是针对单个特征出现的异常数值\n",
    "异常点是针对多个特征出现的离群点\n",
    "除非很标准的分布，现实情况中异常值很常见（至少包含噪声，噪声是比异常小的概念）\n",
    "\n",
    "那么我怎么确定不是业务特点而是异常？\n",
    "特别小众的业务特点没有参考意义，应该当作异常值处理\n",
    "所以遇到太少或太奇怪的点，它就应该满足我们对异常值的判断了\n",
    "\n",
    "异常和特点的分界比较微妙\n",
    "差距较大可能是特点，但差距过大，过于小众的就应该是异常了\n",
    "正常与不正常和聚类很像，说明了其没有特定标准的特点\n",
    "\n",
    "所以我的策略就是把足够少的异常点去除，就是我的异常检测方式（只从异常点的角度出发）\n",
    "也可以不删除，期待后期分箱去除\n",
    "\"\"\"\n",
    "\n",
    "\"\"\"\n",
    "这里只介绍k-mean聚类删除，因为异常的判断和聚类一样繁多\n",
    "且忽略了异常值的处理\n",
    "\"\"\""
   ]
  },
  {
   "cell_type": "markdown",
   "id": "6b520955",
   "metadata": {},
   "source": [
    "## k-mean聚类解决异常值"
   ]
  },
  {
   "cell_type": "code",
   "execution_count": null,
   "id": "0550a043",
   "metadata": {},
   "outputs": [],
   "source": [
    "#2.2 k-mean聚类解决异常值\n",
    "\n",
    "#导入sklearn.cluster.KMeans\n",
    "from sklearn.cluster import KMeans\n",
    "\n",
    "#修改matplotlib配置参数支持中文显示，\n",
    "plt.rcParams['font.family']='SimHei'\n",
    "\n",
    "#聚类的类别\n",
    "k = 3 \n",
    "#异常点阈值\n",
    "threshold = 3 \n",
    "#选择数据\n",
    "feature=['Pclass','Age','Fare']#要已经填充空值，不然报错\n",
    "data = df[feature].copy()\n",
    "\n",
    "\n",
    "#数据标准化\n",
    "data_zs = 1.0*(data - data.mean())/data.std() \n",
    "\n",
    "#使用聚类模型聚类\n",
    "model = KMeans(n_clusters = k, max_iter = 500) \n",
    "model.fit(data_zs) \n",
    " \n",
    "#标准化数据及其类别\n",
    "r = pd.concat([data_zs, pd.Series(model.labels_, index = data.index)], axis = 1)  \n",
    "r.columns = list(data.columns) + ['聚类类别'] \n",
    "\n",
    "#计算相对距离\n",
    "norm = []\n",
    "for i in range(k): \n",
    "    norm_tmp = r[feature][r['聚类类别'] == i]-model.cluster_centers_[i]\n",
    "    norm_tmp = norm_tmp.apply(np.linalg.norm, axis = 1) \n",
    "    norm.append(norm_tmp/norm_tmp.median()) \n",
    "norm = pd.concat(norm)\n",
    "\n",
    "#正常点，相对距离小于等于异常点阈值\n",
    "norm[norm <= threshold].plot(style = 'go')\n",
    "#异常点，相对距离大于异常点阈值\n",
    "discrete_points = norm[norm > threshold] \n",
    "discrete_points.plot(style = 'ro')\n",
    "    \n",
    "plt.xlabel('编号')\n",
    "plt.ylabel('相对距离')\n",
    "plt.show()"
   ]
  },
  {
   "cell_type": "code",
   "execution_count": null,
   "id": "45f8940f",
   "metadata": {},
   "outputs": [],
   "source": [
    "#输出前文异常点的行索引\n",
    "discrete_points = norm[norm>threshold]\n",
    "discrete_points.index"
   ]
  },
  {
   "cell_type": "code",
   "execution_count": null,
   "id": "bce48d21",
   "metadata": {},
   "outputs": [],
   "source": [
    "#根据前文行索引删除\n",
    "df=df.drop(discrete_points.index)# 这一步df应该已经没有缺省"
   ]
  },
  {
   "cell_type": "markdown",
   "id": "4240bb1b",
   "metadata": {},
   "source": [
    "# 数据导出"
   ]
  },
  {
   "cell_type": "code",
   "execution_count": null,
   "id": "0f0f3c83",
   "metadata": {},
   "outputs": [],
   "source": [
    "#导出之前检查缺省\n",
    "msno.bar(df=df, figsize=(8, 4), fontsize=18)"
   ]
  },
  {
   "cell_type": "code",
   "execution_count": null,
   "id": "77fae780",
   "metadata": {},
   "outputs": [],
   "source": [
    "#如果不能画图就在这里看count看一下缺省\n",
    "print(df.describe())"
   ]
  },
  {
   "cell_type": "code",
   "execution_count": null,
   "id": "8c67e671",
   "metadata": {},
   "outputs": [],
   "source": [
    "#确认没有奇怪的特征(左边一列的索引不影响)\n",
    "print(df)"
   ]
  },
  {
   "cell_type": "code",
   "execution_count": null,
   "id": "de677c97",
   "metadata": {},
   "outputs": [],
   "source": [
    "#导出\n",
    "fpath_out=\"C:/Users/Huai/Desktop/tool/train_v1_fillna.csv\"\n",
    "df.to_csv(fpath_out,encoding='utf-8',index=False)# index=False 避免为索引添加一列特征"
   ]
  }
 ],
 "metadata": {
  "kernelspec": {
   "display_name": "Python 3 (ipykernel)",
   "language": "python",
   "name": "python3"
  },
  "language_info": {
   "codemirror_mode": {
    "name": "ipython",
    "version": 3
   },
   "file_extension": ".py",
   "mimetype": "text/x-python",
   "name": "python",
   "nbconvert_exporter": "python",
   "pygments_lexer": "ipython3",
   "version": "3.8.8"
  },
  "toc": {
   "base_numbering": 1,
   "nav_menu": {},
   "number_sections": true,
   "sideBar": true,
   "skip_h1_title": false,
   "title_cell": "Table of Contents",
   "title_sidebar": "Contents",
   "toc_cell": false,
   "toc_position": {
    "height": "calc(100% - 180px)",
    "left": "10px",
    "top": "150px",
    "width": "401px"
   },
   "toc_section_display": true,
   "toc_window_display": true
  }
 },
 "nbformat": 4,
 "nbformat_minor": 5
}
