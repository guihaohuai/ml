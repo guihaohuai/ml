{
 "cells": [
  {
   "cell_type": "code",
   "execution_count": null,
   "id": "ddf63ecd",
   "metadata": {},
   "outputs": [],
   "source": [
    "\"\"\"\n",
    "本文档说明：\n",
    "\n",
    "删除特征（文本，序号等）\n",
    "处理连续特征（具体方法见目录）（在此之前应确定哪些连续特征用于离散，它们不参与这部分）\n",
    "调整特征顺序输出\n",
    "\n",
    "\"\"\""
   ]
  },
  {
   "cell_type": "markdown",
   "id": "82f835cf",
   "metadata": {},
   "source": [
    "# 数据导入"
   ]
  },
  {
   "cell_type": "code",
   "execution_count": null,
   "id": "2e662e37",
   "metadata": {},
   "outputs": [],
   "source": [
    "%matplotlib inline\n",
    "import numpy as np\n",
    "import torch\n",
    "import pandas as pd\n",
    "import seaborn as sns\n",
    "import matplotlib.pyplot as plt\n",
    "import missingno as msno\n",
    "import dtale\n",
    "from sklearn import preprocessing as pp\n",
    "import sklearn"
   ]
  },
  {
   "cell_type": "code",
   "execution_count": null,
   "id": "99c81735",
   "metadata": {},
   "outputs": [],
   "source": [
    "fpath=\"C:/Users/Huai/Desktop/tool/train_v1_fillna.csv\"\n",
    "df=pd.read_csv(fpath)\n",
    "\n",
    "#简单数据查看、不必dtale\n",
    "df.shape\n",
    "df.head(5)\n",
    "#df.info()"
   ]
  },
  {
   "cell_type": "code",
   "execution_count": null,
   "id": "e32862d6",
   "metadata": {},
   "outputs": [],
   "source": [
    "msno.bar(df=df, figsize=(8, 4), fontsize=18) "
   ]
  },
  {
   "cell_type": "code",
   "execution_count": null,
   "id": "9f791aae",
   "metadata": {},
   "outputs": [],
   "source": [
    "dtale.show(df)"
   ]
  },
  {
   "cell_type": "markdown",
   "id": "b10742b9",
   "metadata": {},
   "source": [
    "# 删除特征"
   ]
  },
  {
   "cell_type": "code",
   "execution_count": null,
   "id": "3e01c97f",
   "metadata": {},
   "outputs": [],
   "source": [
    "#2.删除特征\n",
    "df=df.drop(['Ticket','PassengerId',\"Name\"],axis=1)\n",
    "#fillna的数据输出没有这么快删，因为文本等特征可能另有用途"
   ]
  },
  {
   "cell_type": "markdown",
   "id": "4329c866",
   "metadata": {},
   "source": [
    "# 处理连续值"
   ]
  },
  {
   "cell_type": "markdown",
   "id": "6c3ffcef",
   "metadata": {},
   "source": [
    "## 标准化"
   ]
  },
  {
   "cell_type": "code",
   "execution_count": null,
   "id": "57734084",
   "metadata": {},
   "outputs": [],
   "source": [
    "#3.1.1标准化\n",
    "ser=df[\"Age\"].copy()\n",
    "\n",
    "temp = np.array(ser)\n",
    "temp = temp.reshape(temp.shape[0], 1)\n",
    "scaler = pp.StandardScaler().fit(temp)\n",
    "temp = scaler.transform(temp)\n",
    "temp = temp.reshape(temp.shape[0], )\n",
    "new_ser = pd.Series(temp, index=ser.index,name=ser.name)\n",
    "#return scaler, new_ser\n",
    "\n",
    "#print(new_ser.mean(),new_ser.std())\n",
    "#-3.0e-18 1.00\n",
    "\n",
    "df[\"Age\"]=new_ser"
   ]
  },
  {
   "cell_type": "markdown",
   "id": "d8d74f58",
   "metadata": {},
   "source": [
    "## 特征缩放（归一化）"
   ]
  },
  {
   "cell_type": "markdown",
   "id": "e404e7c8",
   "metadata": {},
   "source": [
    "### Max-Min 范围0-1"
   ]
  },
  {
   "cell_type": "code",
   "execution_count": null,
   "id": "e3e96c60",
   "metadata": {},
   "outputs": [],
   "source": [
    "#3.2.1特征缩放（归一化）\n",
    "ser=df[\"Fare\"].copy()\n",
    "\n",
    "temp = np.array(ser)\n",
    "temp = temp.reshape(temp.shape[0], 1)\n",
    "scaler = pp.MinMaxScaler().fit(temp)\n",
    "temp = scaler.transform(temp)\n",
    "temp = temp.reshape(temp.shape[0], )\n",
    "new_ser = pd.Series(temp, index=ser.index,name=ser.name)\n",
    "#return scaler, new_ser\n",
    "\n",
    "#print(new_ser.max(),new_ser.min())\n",
    "#1.0 0.0\n",
    "\n",
    "#df[\"Fare\"]=new_ser"
   ]
  },
  {
   "cell_type": "markdown",
   "id": "d0c74ae3",
   "metadata": {},
   "source": [
    "###  范围:-1 - 1"
   ]
  },
  {
   "cell_type": "code",
   "execution_count": null,
   "id": "cdf1bf91",
   "metadata": {},
   "outputs": [],
   "source": [
    "#3.2.2\n",
    "#数据会被到归一到[-1,1]之间，通过将数据除以最大值。该方法对那些已经中心化均值为0或者稀疏的数据有意义。\n",
    "ser=df[\"Fare\"].copy()\n",
    "\n",
    "temp = np.array(ser)\n",
    "temp = temp.reshape(temp.shape[0], 1)\n",
    "scaler = pp.MaxAbsScaler().fit(temp)\n",
    "temp = scaler.transform(temp)\n",
    "temp = temp.reshape(temp.shape[0], )\n",
    "new_ser = pd.Series(temp, index=ser.index,name=ser.name)\n",
    "#return scaler, new_ser\n",
    "\n",
    "#print(new_ser.max(),new_ser.min())\n",
    "#1.0 0.0 #后面不是负数是因为Fare没有负数\n",
    "\n",
    "#df[\"Fare\"]=new_ser"
   ]
  },
  {
   "cell_type": "markdown",
   "id": "35946b7f",
   "metadata": {},
   "source": [
    "## 规范化/正则化"
   ]
  },
  {
   "cell_type": "code",
   "execution_count": null,
   "id": "e4aa96b7",
   "metadata": {},
   "outputs": [],
   "source": [
    "#3.3规范化/正则化  #这个针对向量\n",
    "#正则化  way=\"l1\"/\"l2\"  范数是ln为每个元素的n次方和再开n次根做分母，元素分别做分子\n",
    "#l2 输出平方和为1\n",
    "\n",
    "temp_df=df.loc[:,[\"Age\",\"Fare\"]].copy()\n",
    "way=\"l2\"\n",
    "#正则处理的是向量，df为df.loc[:,[\"name1\",\"name2\"]]\n",
    "\n",
    "temp = temp_df.values\n",
    "norm = pp.Normalizer(norm=way).fit(temp)\n",
    "temp = norm.transform(temp)\n",
    "new_df = pd.DataFrame(temp, index=temp_df.index,columns=temp_df.columns)\n",
    "#return norm, new_df\n",
    "\n",
    "#print(df.loc[:,[\"Age\",\"Fare\"]].head(5))\n",
    "#print(new_df.head(5))\n",
    "#1.0 0.0 #后面不是负数是因为Fare没有负数\n",
    "\n",
    "#df.loc[:,[\"Age\",\"Fare\"]]=temp_df"
   ]
  },
  {
   "cell_type": "markdown",
   "id": "cb2604d1",
   "metadata": {},
   "source": [
    "## 对数转换"
   ]
  },
  {
   "cell_type": "code",
   "execution_count": null,
   "id": "7d76d5d7",
   "metadata": {},
   "outputs": [],
   "source": [
    "#3.4 对数转换\n",
    "ser=df[\"Age\"].copy()\n",
    "\n",
    "temp = np.array(ser)\n",
    "temp = temp.reshape(temp.shape[0], 1)\n",
    "temp = np.log(temp)#1/(1+np.exp(-temp))------可以变sigmoid之类  \n",
    "temp = temp.reshape(temp.shape[0], )\n",
    "new_ser = pd.Series(temp, index=ser.index,name=ser.name)\n",
    "#return  new_ser\n",
    "\n",
    "df[\"Age\"]=ser"
   ]
  },
  {
   "cell_type": "markdown",
   "id": "7be66a45",
   "metadata": {},
   "source": [
    "## 幂变换 "
   ]
  },
  {
   "cell_type": "code",
   "execution_count": null,
   "id": "263219f8",
   "metadata": {},
   "outputs": [],
   "source": [
    "# 幂变换（变正态）\n",
    "# 3.5.1 Box-Cox（数据严格为正） /  3.5.2 Yeo-Johnson（数据可正可负）\n",
    "\"\"\"\n",
    "box-cox变换_百度百科 (baidu.com)\n",
    "Yeo-Johnson变换_百度百科 (baidu.com)\n",
    "sklearn.preprocessing.PowerTransformer-scikit-learn中文社区\n",
    "\"\"\"\n",
    "ser=df[\"Age\"].copy()\n",
    "\n",
    "temp = np.array(ser)\n",
    "temp = temp.reshape(temp.shape[0], 1)\n",
    "pt=pp.PowerTransformer(method='yeo-johnson')#\"box-cox\"\n",
    "temp = pt.fit_transform(temp)\n",
    "temp = temp.reshape(temp.shape[0], )\n",
    "new_ser = pd.Series(temp, index=ser.index,name=ser.name)\n",
    "#return  new_ser\n",
    "\n",
    "#print(pt.lambdas_)  #确定λ才知道具体变换方式\n",
    "\n",
    "df[\"Age\"]=ser"
   ]
  },
  {
   "cell_type": "markdown",
   "id": "bd341d31",
   "metadata": {},
   "source": [
    "## 二值化"
   ]
  },
  {
   "cell_type": "code",
   "execution_count": null,
   "id": "30711214",
   "metadata": {},
   "outputs": [],
   "source": [
    "#3.6 二值化\n",
    "ser=df[\"Fare\"].copy()\n",
    "threshold=50\n",
    "\n",
    "temp = np.array(ser)\n",
    "temp = temp.reshape(temp.shape[0], 1)\n",
    "temp = (temp>threshold).astype(int)\n",
    "temp = temp.reshape(temp.shape[0], )\n",
    "new_ser = pd.Series(temp, index=ser.index,name=ser.name)\n",
    "#return  new_ser\n",
    "\n",
    "#print(new_ser)\n",
    "\n",
    "#df[\"Fare\"]=ser"
   ]
  },
  {
   "cell_type": "markdown",
   "id": "034ae93a",
   "metadata": {},
   "source": [
    "## 定序值"
   ]
  },
  {
   "cell_type": "code",
   "execution_count": null,
   "id": "3f9aa9ea",
   "metadata": {},
   "outputs": [],
   "source": [
    "#3.7 定序值\n",
    "ser=df[\"Sex\"].copy()\n",
    "name_list=[\"female\",\"male\"]\n",
    "print(ser.unique())\n",
    "ser[ser==\"male\"]=\"b\"\n",
    "ser[ser==\"female\"]=\"a\"\n",
    "name_list=[\"b\",\"a\"]\n",
    "#按照字母序 a:0  b:1\n",
    "\n",
    "trans=pp.LabelEncoder().fit(np.array(name_list))\n",
    "new_ser=trans.transform(ser)\n",
    "#return trans, new_ser\n",
    "\n",
    "#print(new_ser)\n",
    "\n",
    "#df[\"Fare\"]=new_ser"
   ]
  },
  {
   "cell_type": "markdown",
   "id": "b3202023",
   "metadata": {},
   "source": [
    "# 处理特征顺序"
   ]
  },
  {
   "cell_type": "code",
   "execution_count": null,
   "id": "3299c054",
   "metadata": {},
   "outputs": [],
   "source": [
    "# 处理csv的特征顺序\n",
    "print(df.columns)\n",
    "print(df.info())\n",
    "\n",
    "#下面排列特征顺序 （目标最前，连续，连续待离散，离散）\n",
    "df=df[['Unnamed: 0', 'Survived' ,\n",
    "       'Age',\n",
    "       'Fare','Sex', 'Pclass','SibSp', 'Parch', 'Embarked'\n",
    "      ]]\n",
    "\n",
    "print(df.info())"
   ]
  },
  {
   "cell_type": "markdown",
   "id": "b85fa904",
   "metadata": {},
   "source": [
    "# 数据导出"
   ]
  },
  {
   "cell_type": "code",
   "execution_count": null,
   "id": "d7f345c0",
   "metadata": {},
   "outputs": [],
   "source": [
    "#输出前查看\n",
    "print(df)"
   ]
  },
  {
   "cell_type": "code",
   "execution_count": null,
   "id": "13ada396",
   "metadata": {},
   "outputs": [],
   "source": [
    "fpath_out=\"C:/Users/Huai/Desktop/tool/train_v2_continuous.csv\"\n",
    "df.to_csv(fpath_out,encoding='utf-8',index=False)#避免index产生新特征"
   ]
  }
 ],
 "metadata": {
  "kernelspec": {
   "display_name": "Python 3 (ipykernel)",
   "language": "python",
   "name": "python3"
  },
  "language_info": {
   "codemirror_mode": {
    "name": "ipython",
    "version": 3
   },
   "file_extension": ".py",
   "mimetype": "text/x-python",
   "name": "python",
   "nbconvert_exporter": "python",
   "pygments_lexer": "ipython3",
   "version": "3.8.8"
  },
  "toc": {
   "base_numbering": 1,
   "nav_menu": {},
   "number_sections": true,
   "sideBar": true,
   "skip_h1_title": false,
   "title_cell": "Table of Contents",
   "title_sidebar": "Contents",
   "toc_cell": false,
   "toc_position": {
    "height": "calc(100% - 180px)",
    "left": "10px",
    "top": "150px",
    "width": "261px"
   },
   "toc_section_display": true,
   "toc_window_display": true
  }
 },
 "nbformat": 4,
 "nbformat_minor": 5
}
