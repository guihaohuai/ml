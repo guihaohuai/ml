{
 "cells": [
  {
   "cell_type": "code",
   "execution_count": null,
   "id": "803ed9f6",
   "metadata": {},
   "outputs": [],
   "source": [
    "import numpy as np\n",
    "import pandas as pd\n",
    "import torch\n",
    "import sklearn\n",
    "from sklearn.model_selection import cross_val_score"
   ]
  },
  {
   "cell_type": "code",
   "execution_count": null,
   "id": "93e6240d",
   "metadata": {},
   "outputs": [],
   "source": [
    "#选择model文件\n",
    "#同时改参数\n",
    "\n",
    "\n",
    "from sklearn import tree\n",
    "from sklearn.model_selection import GridSearchCV\n",
    "\n",
    "def Model():\n",
    "    clf = tree.DecisionTreeClassifier(\n",
    "        )\n",
    "    return clf\n",
    "\n"
   ]
  },
  {
   "cell_type": "code",
   "execution_count": null,
   "id": "fcc437d2",
   "metadata": {},
   "outputs": [],
   "source": [
    "#读取数据\n",
    "df=pd.read_csv( \"C:/Users/Huai/Desktop/tool/train_v3_discrete.csv\" )"
   ]
  },
  {
   "cell_type": "code",
   "execution_count": null,
   "id": "2d01622b",
   "metadata": {},
   "outputs": [],
   "source": [
    "df"
   ]
  },
  {
   "cell_type": "code",
   "execution_count": null,
   "id": "2b2860c0",
   "metadata": {},
   "outputs": [],
   "source": [
    "#features.remove( \"Survived\" )#config.data[\"target_name\"]\n",
    "y=df[ \"Survived\" ]#config.data[\"target_name\"]\n",
    "temp=df.columns.tolist( )\n",
    "temp.remove( \"Survived\" )\n",
    "x_df=df[temp]\n",
    "#\n",
    "#\n",
    "X=x_df.values\n",
    "features=x_df.columns.tolist()"
   ]
  },
  {
   "cell_type": "code",
   "execution_count": null,
   "id": "b5a8800f",
   "metadata": {},
   "outputs": [],
   "source": [
    "\n",
    "#及时查看，避免数据错误\n",
    "#print(df.head(5))\n",
    "print(features)\n",
    "print('Y:\\n',y[0])\n",
    "print(\"X:\\n\",X[2])\n"
   ]
  },
  {
   "cell_type": "code",
   "execution_count": null,
   "id": "3a2637b3",
   "metadata": {},
   "outputs": [],
   "source": [
    "#https://scikit-learn.org.cn/view/745.html   RFECV中文文档\n",
    "\n",
    "#和之前一样，借助model函数获得clf\n",
    "clf = Model()\n",
    "\n",
    "from sklearn.datasets import make_friedman1\n",
    "from sklearn.feature_selection import RFECV\n",
    "\n",
    "\n",
    "estimator = clf\n",
    "selector = RFECV(estimator, step=1, cv=5, min_features_to_select=4)\n",
    "selector = selector.fit(X, y)\n",
    "\n",
    "\n",
    "pos = np.where(selector.ranking_ == 1)[0]\n",
    "save_features=[x for x in features if features.index(x) in pos]\n",
    "\n",
    "print(selector.support_ )\n",
    "\n",
    "print(selector.ranking_)\n",
    "\n",
    "print(\"\\n\")\n",
    "print(\"原特征:\")\n",
    "print(features)\n",
    "print(\"\\n\")\n",
    "print(\"保留特征:\")\n",
    "print(save_features)\n",
    "\n",
    "\n",
    "#selector.support_ \n",
    "#array([ True,  True,  True,  True,  True, False, False, False, False,\n",
    "#       False])  #选择的特征为True\n",
    "#selector.ranking_\n",
    "#array([1, 1, 1, 1, 1, 6, 4, 3, 2, 5])  #选择保留的特征为1"
   ]
  }
 ],
 "metadata": {
  "kernelspec": {
   "display_name": "Python 3 (ipykernel)",
   "language": "python",
   "name": "python3"
  },
  "language_info": {
   "codemirror_mode": {
    "name": "ipython",
    "version": 3
   },
   "file_extension": ".py",
   "mimetype": "text/x-python",
   "name": "python",
   "nbconvert_exporter": "python",
   "pygments_lexer": "ipython3",
   "version": "3.8.8"
  },
  "toc": {
   "base_numbering": 1,
   "nav_menu": {},
   "number_sections": true,
   "sideBar": true,
   "skip_h1_title": false,
   "title_cell": "Table of Contents",
   "title_sidebar": "Contents",
   "toc_cell": false,
   "toc_position": {},
   "toc_section_display": true,
   "toc_window_display": false
  }
 },
 "nbformat": 4,
 "nbformat_minor": 5
}
